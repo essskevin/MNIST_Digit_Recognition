{
 "cells": [
  {
   "cell_type": "markdown",
   "id": "5d2ae2f4",
   "metadata": {},
   "source": [
    "# MNIST Classification"
   ]
  },
  {
   "cell_type": "markdown",
   "id": "a4924e52",
   "metadata": {},
   "source": [
    "The MNIST dataset is a collection of 70,000 handwritten digits that is commonly used for training various image processing systems. It is a great dataset for beginners to practice image classification tasks.\n",
    "\n",
    "We will not use Neural Networks for this task, but rather we will see how even traditional machine learning algorithms can perform well on this task."
   ]
  },
  {
   "cell_type": "markdown",
   "id": "8b8e7f65",
   "metadata": {},
   "source": [
    "## Data"
   ]
  },
  {
   "cell_type": "code",
   "execution_count": null,
   "id": "51815b75",
   "metadata": {
    "vscode": {
     "languageId": "plaintext"
    }
   },
   "outputs": [],
   "source": [
    "from sklearn.datasets import fetch_openml"
   ]
  }
 ],
 "metadata": {
  "language_info": {
   "name": "python"
  }
 },
 "nbformat": 4,
 "nbformat_minor": 5
}
